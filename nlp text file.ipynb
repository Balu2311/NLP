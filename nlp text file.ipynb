{
 "cells": [
  {
   "cell_type": "code",
   "execution_count": 3,
   "metadata": {},
   "outputs": [],
   "source": [
    "import nltk\n",
    "import PyPDF2\n",
    "import os\n",
    "import re"
   ]
  },
  {
   "cell_type": "code",
   "execution_count": 9,
   "metadata": {},
   "outputs": [
    {
     "name": "stdout",
     "output_type": "stream",
     "text": [
      "An old man lived in the village. He was one of the most unfortunate people in the world. The whole village was tired of him; he was always gloomy, he constantly complained and was always in a bad mood.The longer he lived, the more bile he was becoming and the more poisonous were his words. People avoided him, because his misfortune became contagious. It was even unnatural and insulting to be happy next to him.He created the feeling of unhappiness in others.But one day, when he turned eighty years old, an incredible thing happened. Instantly everyone started hearing the rumour:“An Old Man is happy today, he doesn’t complain about anything, smiles, and even his face is freshened up.The whole village gathered together. The old man was asked:Villager: What happened to you?“Nothing special. Eighty years I’ve been chasing happiness, and it was useless. And then I decided to live without happiness and just enjoy life. That’s why I’m happy now.” – An Old Man. Moral of the story: Don’t chase happiness. Enjoy your life\n"
     ]
    }
   ],
   "source": [
    "raw_text = open('HappinessA.txt').read()\n",
    "print(raw_text)"
   ]
  },
  {
   "cell_type": "code",
   "execution_count": 10,
   "metadata": {},
   "outputs": [
    {
     "name": "stdout",
     "output_type": "stream",
     "text": [
      "Please enter text here\n",
      "hello reddy\n",
      "hello reddy\n"
     ]
    }
   ],
   "source": [
    "s = input(\"Please enter text here\\n\")\n",
    "print(s)"
   ]
  },
  {
   "cell_type": "code",
   "execution_count": 11,
   "metadata": {},
   "outputs": [
    {
     "data": {
      "text/plain": [
       "str"
      ]
     },
     "execution_count": 11,
     "metadata": {},
     "output_type": "execute_result"
    }
   ],
   "source": [
    "type(raw_text)"
   ]
  },
  {
   "cell_type": "code",
   "execution_count": 12,
   "metadata": {},
   "outputs": [
    {
     "data": {
      "text/plain": [
       "['An old man lived in the village. He was one of the most unfortunate people in the world. The whole village was tired of him; he was always gloomy, he constantly complained and was always in a bad mood.The longer he lived, the more bile he was becoming and the more poisonous were his words. People avoided him, because his misfortune became contagious. It was even unnatural and insulting to be happy next to him.He created the feeling of unhappiness in others.But one day, when he turned eighty years old, an incredible thing happened. Instantly everyone started hearing the rumour:“An Old Man is happy today, he doesn’t complain about anything, smiles, and even his face is freshened up.The whole village gathered together. The old man was asked:Villager: What happened to you?“Nothing special. Eighty years I’ve been chasing happiness, and it was useless. And then I decided to live without happiness and just enjoy life. That’s why I’m happy now.” – An Old Man. Moral of the story: Don’t chase happiness. Enjoy your life']"
      ]
     },
     "execution_count": 12,
     "metadata": {},
     "output_type": "execute_result"
    }
   ],
   "source": [
    "# paragrap identy\n",
    "from nltk.tokenize import blankline_tokenize\n",
    "blank = blankline_tokenize(raw_text)\n",
    "blank"
   ]
  },
  {
   "cell_type": "code",
   "execution_count": 13,
   "metadata": {},
   "outputs": [
    {
     "data": {
      "text/plain": [
       "1"
      ]
     },
     "execution_count": 13,
     "metadata": {},
     "output_type": "execute_result"
    }
   ],
   "source": [
    "len(blank)"
   ]
  },
  {
   "cell_type": "code",
   "execution_count": 14,
   "metadata": {},
   "outputs": [
    {
     "data": {
      "text/plain": [
       "['An old man lived in the village.',\n",
       " 'He was one of the most unfortunate people in the world.',\n",
       " 'The whole village was tired of him; he was always gloomy, he constantly complained and was always in a bad mood.The longer he lived, the more bile he was becoming and the more poisonous were his words.',\n",
       " 'People avoided him, because his misfortune became contagious.',\n",
       " 'It was even unnatural and insulting to be happy next to him.He created the feeling of unhappiness in others.But one day, when he turned eighty years old, an incredible thing happened.',\n",
       " 'Instantly everyone started hearing the rumour:“An Old Man is happy today, he doesn’t complain about anything, smiles, and even his face is freshened up.The whole village gathered together.',\n",
       " 'The old man was asked:Villager: What happened to you?“Nothing special.',\n",
       " 'Eighty years I’ve been chasing happiness, and it was useless.',\n",
       " 'And then I decided to live without happiness and just enjoy life.',\n",
       " 'That’s why I’m happy now.” – An Old Man.',\n",
       " 'Moral of the story: Don’t chase happiness.',\n",
       " 'Enjoy your life']"
      ]
     },
     "execution_count": 14,
     "metadata": {},
     "output_type": "execute_result"
    }
   ],
   "source": [
    "#sentans \n",
    "from nltk.tokenize import sent_tokenize\n",
    "sent = sent_tokenize(raw_text)\n",
    "sent"
   ]
  },
  {
   "cell_type": "code",
   "execution_count": 15,
   "metadata": {},
   "outputs": [
    {
     "data": {
      "text/plain": [
       "12"
      ]
     },
     "execution_count": 15,
     "metadata": {},
     "output_type": "execute_result"
    }
   ],
   "source": [
    "len(sent)"
   ]
  },
  {
   "cell_type": "code",
   "execution_count": 16,
   "metadata": {},
   "outputs": [
    {
     "name": "stdout",
     "output_type": "stream",
     "text": [
      "['An old man lived in the village. He was one of the most unfortunate people in the world. The whole village was tired of him he was always gloomy he constantly complained and was always in a bad mood.The longer he lived the more bile he was becoming and the more poisonous were his words. People avoided him because his misfortune became contagious. It was even unnatural and insulting to be happy next to him.He created the feeling of unhappiness in others.But one day when he turned eighty years old an incredible thing happened. Instantly everyone started hearing the rumourAn Old Man is happy today he doesnt complain about anything smiles and even his face is freshened up.The whole village gathered together. The old man was askedVillager What happened to youNothing special. Eighty years Ive been chasing happiness and it was useless. And then I decided to live without happiness and just enjoy life. Thats why Im happy now.', 'An Old Man. Moral of the story Dont chase happiness. Enjoy your life']\n"
     ]
    }
   ],
   "source": [
    "import re\n",
    "\n",
    "split_text = re.sub(r\"[^.a-zA-Z\\s]+\", '', raw_text)\n",
    "split_text = re.split(r\"\\s+ \", split_text)\n",
    "print(split_text)"
   ]
  },
  {
   "cell_type": "code",
   "execution_count": 17,
   "metadata": {},
   "outputs": [
    {
     "name": "stdout",
     "output_type": "stream",
     "text": [
      "An old man lived in the village\n",
      " He was one of the most unfortunate people in the world\n",
      " The whole village was tired of him he was always gloomy he constantly complained and was always in a bad mood\n",
      "The longer he lived the more bile he was becoming and the more poisonous were his words\n",
      " People avoided him because his misfortune became contagious\n",
      " It was even unnatural and insulting to be happy next to him\n",
      "He created the feeling of unhappiness in others\n",
      "But one day when he turned eighty years old an incredible thing happened\n",
      " Instantly everyone started hearing the rumourAn Old Man is happy today he doesnt complain about anything smiles and even his face is freshened up\n",
      "The whole village gathered together\n",
      " The old man was askedVillager What happened to youNothing special\n",
      " Eighty years Ive been chasing happiness and it was useless\n",
      " And then I decided to live without happiness and just enjoy life\n",
      " Thats why Im happy now\n",
      "  An Old Man\n",
      " Moral of the story Dont chase happiness\n",
      " Enjoy your life\n"
     ]
    }
   ],
   "source": [
    "raw_text = re.sub(r\"[^.a-zA-Z\\s]+\", '', raw_text)\n",
    "raw_text = re.sub(r\"[.]+\", \"\\n\", raw_text)\n",
    "print(raw_text)"
   ]
  },
  {
   "cell_type": "code",
   "execution_count": 18,
   "metadata": {},
   "outputs": [
    {
     "name": "stdout",
     "output_type": "stream",
     "text": [
      "['An old man lived in the village', 'He was one of the most unfortunate people in the world', 'The whole village was tired of him he was always gloomy he constantly complained and was always in a bad mood', 'The longer he lived the more bile he was becoming and the more poisonous were his words', 'People avoided him because his misfortune became contagious', 'It was even unnatural and insulting to be happy next to him', 'He created the feeling of unhappiness in others', 'But one day when he turned eighty years old an incredible thing happened', 'Instantly everyone started hearing the rumourAn Old Man is happy today he doesnt complain about anything smiles and even his face is freshened up', 'The whole village gathered together', 'The old man was askedVillager What happened to youNothing special', 'Eighty years Ive been chasing happiness and it was useless', 'And then I decided to live without happiness and just enjoy life', 'Thats why Im happy now', 'An Old Man', 'Moral of the story Dont chase happiness', 'Enjoy your life']\n"
     ]
    }
   ],
   "source": [
    "sentences = [x.strip() for x in raw_text.split('\\n')]\n",
    "print(sentences)"
   ]
  },
  {
   "cell_type": "code",
   "execution_count": 19,
   "metadata": {},
   "outputs": [
    {
     "name": "stdout",
     "output_type": "stream",
     "text": [
      "An old man lived in the village\n",
      "He was one of the most unfortunate people in the world\n",
      "The whole village was tired of him he was always gloomy he constantly complained and was always in a bad mood\n",
      "The longer he lived the more bile he was becoming and the more poisonous were his words\n",
      "People avoided him because his misfortune became contagious\n",
      "It was even unnatural and insulting to be happy next to him\n",
      "He created the feeling of unhappiness in others\n",
      "But one day when he turned eighty years old an incredible thing happened\n",
      "Instantly everyone started hearing the rumourAn Old Man is happy today he doesnt complain about anything smiles and even his face is freshened up\n",
      "The whole village gathered together\n",
      "The old man was askedVillager What happened to youNothing special\n",
      "Eighty years Ive been chasing happiness and it was useless\n",
      "And then I decided to live without happiness and just enjoy life\n",
      "Thats why Im happy now\n",
      "An Old Man\n",
      "Moral of the story Dont chase happiness\n",
      "Enjoy your life\n"
     ]
    }
   ],
   "source": [
    "cleaned_text = '\\n'.join(sentences)\n",
    "print(cleaned_text)"
   ]
  },
  {
   "cell_type": "code",
   "execution_count": 21,
   "metadata": {},
   "outputs": [
    {
     "data": {
      "text/plain": [
       "['An',\n",
       " 'old',\n",
       " 'man',\n",
       " 'lived',\n",
       " 'in',\n",
       " 'the',\n",
       " 'village',\n",
       " 'He',\n",
       " 'was',\n",
       " 'one',\n",
       " 'of',\n",
       " 'the',\n",
       " 'most',\n",
       " 'unfortunate',\n",
       " 'people',\n",
       " 'in',\n",
       " 'the',\n",
       " 'world',\n",
       " 'The',\n",
       " 'whole',\n",
       " 'village',\n",
       " 'was',\n",
       " 'tired',\n",
       " 'of',\n",
       " 'him',\n",
       " 'he',\n",
       " 'was',\n",
       " 'always',\n",
       " 'gloomy',\n",
       " 'he',\n",
       " 'constantly',\n",
       " 'complained',\n",
       " 'and',\n",
       " 'was',\n",
       " 'always',\n",
       " 'in',\n",
       " 'a',\n",
       " 'bad',\n",
       " 'mood',\n",
       " 'The',\n",
       " 'longer',\n",
       " 'he',\n",
       " 'lived',\n",
       " 'the',\n",
       " 'more',\n",
       " 'bile',\n",
       " 'he',\n",
       " 'was',\n",
       " 'becoming',\n",
       " 'and',\n",
       " 'the',\n",
       " 'more',\n",
       " 'poisonous',\n",
       " 'were',\n",
       " 'his',\n",
       " 'words',\n",
       " 'People',\n",
       " 'avoided',\n",
       " 'him',\n",
       " 'because',\n",
       " 'his',\n",
       " 'misfortune',\n",
       " 'became',\n",
       " 'contagious',\n",
       " 'It',\n",
       " 'was',\n",
       " 'even',\n",
       " 'unnatural',\n",
       " 'and',\n",
       " 'insulting',\n",
       " 'to',\n",
       " 'be',\n",
       " 'happy',\n",
       " 'next',\n",
       " 'to',\n",
       " 'him',\n",
       " 'He',\n",
       " 'created',\n",
       " 'the',\n",
       " 'feeling',\n",
       " 'of',\n",
       " 'unhappiness',\n",
       " 'in',\n",
       " 'others',\n",
       " 'But',\n",
       " 'one',\n",
       " 'day',\n",
       " 'when',\n",
       " 'he',\n",
       " 'turned',\n",
       " 'eighty',\n",
       " 'years',\n",
       " 'old',\n",
       " 'an',\n",
       " 'incredible',\n",
       " 'thing',\n",
       " 'happened',\n",
       " 'Instantly',\n",
       " 'everyone',\n",
       " 'started',\n",
       " 'hearing',\n",
       " 'the',\n",
       " 'rumourAn',\n",
       " 'Old',\n",
       " 'Man',\n",
       " 'is',\n",
       " 'happy',\n",
       " 'today',\n",
       " 'he',\n",
       " 'doesnt',\n",
       " 'complain',\n",
       " 'about',\n",
       " 'anything',\n",
       " 'smiles',\n",
       " 'and',\n",
       " 'even',\n",
       " 'his',\n",
       " 'face',\n",
       " 'is',\n",
       " 'freshened',\n",
       " 'up',\n",
       " 'The',\n",
       " 'whole',\n",
       " 'village',\n",
       " 'gathered',\n",
       " 'together',\n",
       " 'The',\n",
       " 'old',\n",
       " 'man',\n",
       " 'was',\n",
       " 'askedVillager',\n",
       " 'What',\n",
       " 'happened',\n",
       " 'to',\n",
       " 'youNothing',\n",
       " 'special',\n",
       " 'Eighty',\n",
       " 'years',\n",
       " 'Ive',\n",
       " 'been',\n",
       " 'chasing',\n",
       " 'happiness',\n",
       " 'and',\n",
       " 'it',\n",
       " 'was',\n",
       " 'useless',\n",
       " 'And',\n",
       " 'then',\n",
       " 'I',\n",
       " 'decided',\n",
       " 'to',\n",
       " 'live',\n",
       " 'without',\n",
       " 'happiness',\n",
       " 'and',\n",
       " 'just',\n",
       " 'enjoy',\n",
       " 'life',\n",
       " 'Thats',\n",
       " 'why',\n",
       " 'Im',\n",
       " 'happy',\n",
       " 'now',\n",
       " 'An',\n",
       " 'Old',\n",
       " 'Man',\n",
       " 'Moral',\n",
       " 'of',\n",
       " 'the',\n",
       " 'story',\n",
       " 'Dont',\n",
       " 'chase',\n",
       " 'happiness',\n",
       " 'Enjoy',\n",
       " 'your',\n",
       " 'life']"
      ]
     },
     "execution_count": 21,
     "metadata": {},
     "output_type": "execute_result"
    }
   ],
   "source": [
    "from nltk.tokenize import word_tokenize\n",
    "tokens = word_tokenize(cleaned_text)\n",
    "tokens"
   ]
  },
  {
   "cell_type": "code",
   "execution_count": 22,
   "metadata": {},
   "outputs": [
    {
     "data": {
      "text/plain": [
       "176"
      ]
     },
     "execution_count": 22,
     "metadata": {},
     "output_type": "execute_result"
    }
   ],
   "source": [
    "# lentha of the tokens\n",
    "len(tokens)"
   ]
  },
  {
   "cell_type": "code",
   "execution_count": 23,
   "metadata": {},
   "outputs": [],
   "source": [
    "# repeted words identy\n",
    "from nltk.probability import FreqDist\n",
    "fdist = FreqDist()"
   ]
  },
  {
   "cell_type": "code",
   "execution_count": 24,
   "metadata": {},
   "outputs": [
    {
     "data": {
      "text/plain": [
       "FreqDist({'the': 12, 'he': 8, 'was': 8, 'and': 7, 'old': 5, 'man': 4, 'in': 4, 'of': 4, 'to': 4, 'an': 3, ...})"
      ]
     },
     "execution_count": 24,
     "metadata": {},
     "output_type": "execute_result"
    }
   ],
   "source": [
    "for word in tokens:\n",
    "    fdist[word.lower()]+=1\n",
    "fdist"
   ]
  },
  {
   "cell_type": "code",
   "execution_count": 25,
   "metadata": {},
   "outputs": [
    {
     "data": {
      "text/plain": [
       "[('the', 12), ('he', 8), ('was', 8), ('and', 7), ('old', 5)]"
      ]
     },
     "execution_count": 25,
     "metadata": {},
     "output_type": "execute_result"
    }
   ],
   "source": [
    "fdist_top5 = fdist.most_common(5)\n",
    "fdist_top5"
   ]
  },
  {
   "cell_type": "code",
   "execution_count": 26,
   "metadata": {},
   "outputs": [],
   "source": [
    "from nltk.util import bigrams, trigrams, ngrams"
   ]
  },
  {
   "cell_type": "code",
   "execution_count": 27,
   "metadata": {},
   "outputs": [
    {
     "data": {
      "text/plain": [
       "[('An', 'old'),\n",
       " ('old', 'man'),\n",
       " ('man', 'lived'),\n",
       " ('lived', 'in'),\n",
       " ('in', 'the'),\n",
       " ('the', 'village'),\n",
       " ('village', 'He'),\n",
       " ('He', 'was'),\n",
       " ('was', 'one'),\n",
       " ('one', 'of'),\n",
       " ('of', 'the'),\n",
       " ('the', 'most'),\n",
       " ('most', 'unfortunate'),\n",
       " ('unfortunate', 'people'),\n",
       " ('people', 'in'),\n",
       " ('in', 'the'),\n",
       " ('the', 'world'),\n",
       " ('world', 'The'),\n",
       " ('The', 'whole'),\n",
       " ('whole', 'village'),\n",
       " ('village', 'was'),\n",
       " ('was', 'tired'),\n",
       " ('tired', 'of'),\n",
       " ('of', 'him'),\n",
       " ('him', 'he'),\n",
       " ('he', 'was'),\n",
       " ('was', 'always'),\n",
       " ('always', 'gloomy'),\n",
       " ('gloomy', 'he'),\n",
       " ('he', 'constantly'),\n",
       " ('constantly', 'complained'),\n",
       " ('complained', 'and'),\n",
       " ('and', 'was'),\n",
       " ('was', 'always'),\n",
       " ('always', 'in'),\n",
       " ('in', 'a'),\n",
       " ('a', 'bad'),\n",
       " ('bad', 'mood'),\n",
       " ('mood', 'The'),\n",
       " ('The', 'longer'),\n",
       " ('longer', 'he'),\n",
       " ('he', 'lived'),\n",
       " ('lived', 'the'),\n",
       " ('the', 'more'),\n",
       " ('more', 'bile'),\n",
       " ('bile', 'he'),\n",
       " ('he', 'was'),\n",
       " ('was', 'becoming'),\n",
       " ('becoming', 'and'),\n",
       " ('and', 'the'),\n",
       " ('the', 'more'),\n",
       " ('more', 'poisonous'),\n",
       " ('poisonous', 'were'),\n",
       " ('were', 'his'),\n",
       " ('his', 'words'),\n",
       " ('words', 'People'),\n",
       " ('People', 'avoided'),\n",
       " ('avoided', 'him'),\n",
       " ('him', 'because'),\n",
       " ('because', 'his'),\n",
       " ('his', 'misfortune'),\n",
       " ('misfortune', 'became'),\n",
       " ('became', 'contagious'),\n",
       " ('contagious', 'It'),\n",
       " ('It', 'was'),\n",
       " ('was', 'even'),\n",
       " ('even', 'unnatural'),\n",
       " ('unnatural', 'and'),\n",
       " ('and', 'insulting'),\n",
       " ('insulting', 'to'),\n",
       " ('to', 'be'),\n",
       " ('be', 'happy'),\n",
       " ('happy', 'next'),\n",
       " ('next', 'to'),\n",
       " ('to', 'him'),\n",
       " ('him', 'He'),\n",
       " ('He', 'created'),\n",
       " ('created', 'the'),\n",
       " ('the', 'feeling'),\n",
       " ('feeling', 'of'),\n",
       " ('of', 'unhappiness'),\n",
       " ('unhappiness', 'in'),\n",
       " ('in', 'others'),\n",
       " ('others', 'But'),\n",
       " ('But', 'one'),\n",
       " ('one', 'day'),\n",
       " ('day', 'when'),\n",
       " ('when', 'he'),\n",
       " ('he', 'turned'),\n",
       " ('turned', 'eighty'),\n",
       " ('eighty', 'years'),\n",
       " ('years', 'old'),\n",
       " ('old', 'an'),\n",
       " ('an', 'incredible'),\n",
       " ('incredible', 'thing'),\n",
       " ('thing', 'happened'),\n",
       " ('happened', 'Instantly'),\n",
       " ('Instantly', 'everyone'),\n",
       " ('everyone', 'started'),\n",
       " ('started', 'hearing'),\n",
       " ('hearing', 'the'),\n",
       " ('the', 'rumourAn'),\n",
       " ('rumourAn', 'Old'),\n",
       " ('Old', 'Man'),\n",
       " ('Man', 'is'),\n",
       " ('is', 'happy'),\n",
       " ('happy', 'today'),\n",
       " ('today', 'he'),\n",
       " ('he', 'doesnt'),\n",
       " ('doesnt', 'complain'),\n",
       " ('complain', 'about'),\n",
       " ('about', 'anything'),\n",
       " ('anything', 'smiles'),\n",
       " ('smiles', 'and'),\n",
       " ('and', 'even'),\n",
       " ('even', 'his'),\n",
       " ('his', 'face'),\n",
       " ('face', 'is'),\n",
       " ('is', 'freshened'),\n",
       " ('freshened', 'up'),\n",
       " ('up', 'The'),\n",
       " ('The', 'whole'),\n",
       " ('whole', 'village'),\n",
       " ('village', 'gathered'),\n",
       " ('gathered', 'together'),\n",
       " ('together', 'The'),\n",
       " ('The', 'old'),\n",
       " ('old', 'man'),\n",
       " ('man', 'was'),\n",
       " ('was', 'askedVillager'),\n",
       " ('askedVillager', 'What'),\n",
       " ('What', 'happened'),\n",
       " ('happened', 'to'),\n",
       " ('to', 'youNothing'),\n",
       " ('youNothing', 'special'),\n",
       " ('special', 'Eighty'),\n",
       " ('Eighty', 'years'),\n",
       " ('years', 'Ive'),\n",
       " ('Ive', 'been'),\n",
       " ('been', 'chasing'),\n",
       " ('chasing', 'happiness'),\n",
       " ('happiness', 'and'),\n",
       " ('and', 'it'),\n",
       " ('it', 'was'),\n",
       " ('was', 'useless'),\n",
       " ('useless', 'And'),\n",
       " ('And', 'then'),\n",
       " ('then', 'I'),\n",
       " ('I', 'decided'),\n",
       " ('decided', 'to'),\n",
       " ('to', 'live'),\n",
       " ('live', 'without'),\n",
       " ('without', 'happiness'),\n",
       " ('happiness', 'and'),\n",
       " ('and', 'just'),\n",
       " ('just', 'enjoy'),\n",
       " ('enjoy', 'life'),\n",
       " ('life', 'Thats'),\n",
       " ('Thats', 'why'),\n",
       " ('why', 'Im'),\n",
       " ('Im', 'happy'),\n",
       " ('happy', 'now'),\n",
       " ('now', 'An'),\n",
       " ('An', 'Old'),\n",
       " ('Old', 'Man'),\n",
       " ('Man', 'Moral'),\n",
       " ('Moral', 'of'),\n",
       " ('of', 'the'),\n",
       " ('the', 'story'),\n",
       " ('story', 'Dont'),\n",
       " ('Dont', 'chase'),\n",
       " ('chase', 'happiness'),\n",
       " ('happiness', 'Enjoy'),\n",
       " ('Enjoy', 'your'),\n",
       " ('your', 'life')]"
      ]
     },
     "execution_count": 27,
     "metadata": {},
     "output_type": "execute_result"
    }
   ],
   "source": [
    "# this is two words\n",
    "bigrams = list(nltk.bigrams(tokens))\n",
    "bigrams"
   ]
  },
  {
   "cell_type": "code",
   "execution_count": 28,
   "metadata": {},
   "outputs": [
    {
     "data": {
      "text/plain": [
       "[('An', 'old', 'man'),\n",
       " ('old', 'man', 'lived'),\n",
       " ('man', 'lived', 'in'),\n",
       " ('lived', 'in', 'the'),\n",
       " ('in', 'the', 'village'),\n",
       " ('the', 'village', 'He'),\n",
       " ('village', 'He', 'was'),\n",
       " ('He', 'was', 'one'),\n",
       " ('was', 'one', 'of'),\n",
       " ('one', 'of', 'the'),\n",
       " ('of', 'the', 'most'),\n",
       " ('the', 'most', 'unfortunate'),\n",
       " ('most', 'unfortunate', 'people'),\n",
       " ('unfortunate', 'people', 'in'),\n",
       " ('people', 'in', 'the'),\n",
       " ('in', 'the', 'world'),\n",
       " ('the', 'world', 'The'),\n",
       " ('world', 'The', 'whole'),\n",
       " ('The', 'whole', 'village'),\n",
       " ('whole', 'village', 'was'),\n",
       " ('village', 'was', 'tired'),\n",
       " ('was', 'tired', 'of'),\n",
       " ('tired', 'of', 'him'),\n",
       " ('of', 'him', 'he'),\n",
       " ('him', 'he', 'was'),\n",
       " ('he', 'was', 'always'),\n",
       " ('was', 'always', 'gloomy'),\n",
       " ('always', 'gloomy', 'he'),\n",
       " ('gloomy', 'he', 'constantly'),\n",
       " ('he', 'constantly', 'complained'),\n",
       " ('constantly', 'complained', 'and'),\n",
       " ('complained', 'and', 'was'),\n",
       " ('and', 'was', 'always'),\n",
       " ('was', 'always', 'in'),\n",
       " ('always', 'in', 'a'),\n",
       " ('in', 'a', 'bad'),\n",
       " ('a', 'bad', 'mood'),\n",
       " ('bad', 'mood', 'The'),\n",
       " ('mood', 'The', 'longer'),\n",
       " ('The', 'longer', 'he'),\n",
       " ('longer', 'he', 'lived'),\n",
       " ('he', 'lived', 'the'),\n",
       " ('lived', 'the', 'more'),\n",
       " ('the', 'more', 'bile'),\n",
       " ('more', 'bile', 'he'),\n",
       " ('bile', 'he', 'was'),\n",
       " ('he', 'was', 'becoming'),\n",
       " ('was', 'becoming', 'and'),\n",
       " ('becoming', 'and', 'the'),\n",
       " ('and', 'the', 'more'),\n",
       " ('the', 'more', 'poisonous'),\n",
       " ('more', 'poisonous', 'were'),\n",
       " ('poisonous', 'were', 'his'),\n",
       " ('were', 'his', 'words'),\n",
       " ('his', 'words', 'People'),\n",
       " ('words', 'People', 'avoided'),\n",
       " ('People', 'avoided', 'him'),\n",
       " ('avoided', 'him', 'because'),\n",
       " ('him', 'because', 'his'),\n",
       " ('because', 'his', 'misfortune'),\n",
       " ('his', 'misfortune', 'became'),\n",
       " ('misfortune', 'became', 'contagious'),\n",
       " ('became', 'contagious', 'It'),\n",
       " ('contagious', 'It', 'was'),\n",
       " ('It', 'was', 'even'),\n",
       " ('was', 'even', 'unnatural'),\n",
       " ('even', 'unnatural', 'and'),\n",
       " ('unnatural', 'and', 'insulting'),\n",
       " ('and', 'insulting', 'to'),\n",
       " ('insulting', 'to', 'be'),\n",
       " ('to', 'be', 'happy'),\n",
       " ('be', 'happy', 'next'),\n",
       " ('happy', 'next', 'to'),\n",
       " ('next', 'to', 'him'),\n",
       " ('to', 'him', 'He'),\n",
       " ('him', 'He', 'created'),\n",
       " ('He', 'created', 'the'),\n",
       " ('created', 'the', 'feeling'),\n",
       " ('the', 'feeling', 'of'),\n",
       " ('feeling', 'of', 'unhappiness'),\n",
       " ('of', 'unhappiness', 'in'),\n",
       " ('unhappiness', 'in', 'others'),\n",
       " ('in', 'others', 'But'),\n",
       " ('others', 'But', 'one'),\n",
       " ('But', 'one', 'day'),\n",
       " ('one', 'day', 'when'),\n",
       " ('day', 'when', 'he'),\n",
       " ('when', 'he', 'turned'),\n",
       " ('he', 'turned', 'eighty'),\n",
       " ('turned', 'eighty', 'years'),\n",
       " ('eighty', 'years', 'old'),\n",
       " ('years', 'old', 'an'),\n",
       " ('old', 'an', 'incredible'),\n",
       " ('an', 'incredible', 'thing'),\n",
       " ('incredible', 'thing', 'happened'),\n",
       " ('thing', 'happened', 'Instantly'),\n",
       " ('happened', 'Instantly', 'everyone'),\n",
       " ('Instantly', 'everyone', 'started'),\n",
       " ('everyone', 'started', 'hearing'),\n",
       " ('started', 'hearing', 'the'),\n",
       " ('hearing', 'the', 'rumourAn'),\n",
       " ('the', 'rumourAn', 'Old'),\n",
       " ('rumourAn', 'Old', 'Man'),\n",
       " ('Old', 'Man', 'is'),\n",
       " ('Man', 'is', 'happy'),\n",
       " ('is', 'happy', 'today'),\n",
       " ('happy', 'today', 'he'),\n",
       " ('today', 'he', 'doesnt'),\n",
       " ('he', 'doesnt', 'complain'),\n",
       " ('doesnt', 'complain', 'about'),\n",
       " ('complain', 'about', 'anything'),\n",
       " ('about', 'anything', 'smiles'),\n",
       " ('anything', 'smiles', 'and'),\n",
       " ('smiles', 'and', 'even'),\n",
       " ('and', 'even', 'his'),\n",
       " ('even', 'his', 'face'),\n",
       " ('his', 'face', 'is'),\n",
       " ('face', 'is', 'freshened'),\n",
       " ('is', 'freshened', 'up'),\n",
       " ('freshened', 'up', 'The'),\n",
       " ('up', 'The', 'whole'),\n",
       " ('The', 'whole', 'village'),\n",
       " ('whole', 'village', 'gathered'),\n",
       " ('village', 'gathered', 'together'),\n",
       " ('gathered', 'together', 'The'),\n",
       " ('together', 'The', 'old'),\n",
       " ('The', 'old', 'man'),\n",
       " ('old', 'man', 'was'),\n",
       " ('man', 'was', 'askedVillager'),\n",
       " ('was', 'askedVillager', 'What'),\n",
       " ('askedVillager', 'What', 'happened'),\n",
       " ('What', 'happened', 'to'),\n",
       " ('happened', 'to', 'youNothing'),\n",
       " ('to', 'youNothing', 'special'),\n",
       " ('youNothing', 'special', 'Eighty'),\n",
       " ('special', 'Eighty', 'years'),\n",
       " ('Eighty', 'years', 'Ive'),\n",
       " ('years', 'Ive', 'been'),\n",
       " ('Ive', 'been', 'chasing'),\n",
       " ('been', 'chasing', 'happiness'),\n",
       " ('chasing', 'happiness', 'and'),\n",
       " ('happiness', 'and', 'it'),\n",
       " ('and', 'it', 'was'),\n",
       " ('it', 'was', 'useless'),\n",
       " ('was', 'useless', 'And'),\n",
       " ('useless', 'And', 'then'),\n",
       " ('And', 'then', 'I'),\n",
       " ('then', 'I', 'decided'),\n",
       " ('I', 'decided', 'to'),\n",
       " ('decided', 'to', 'live'),\n",
       " ('to', 'live', 'without'),\n",
       " ('live', 'without', 'happiness'),\n",
       " ('without', 'happiness', 'and'),\n",
       " ('happiness', 'and', 'just'),\n",
       " ('and', 'just', 'enjoy'),\n",
       " ('just', 'enjoy', 'life'),\n",
       " ('enjoy', 'life', 'Thats'),\n",
       " ('life', 'Thats', 'why'),\n",
       " ('Thats', 'why', 'Im'),\n",
       " ('why', 'Im', 'happy'),\n",
       " ('Im', 'happy', 'now'),\n",
       " ('happy', 'now', 'An'),\n",
       " ('now', 'An', 'Old'),\n",
       " ('An', 'Old', 'Man'),\n",
       " ('Old', 'Man', 'Moral'),\n",
       " ('Man', 'Moral', 'of'),\n",
       " ('Moral', 'of', 'the'),\n",
       " ('of', 'the', 'story'),\n",
       " ('the', 'story', 'Dont'),\n",
       " ('story', 'Dont', 'chase'),\n",
       " ('Dont', 'chase', 'happiness'),\n",
       " ('chase', 'happiness', 'Enjoy'),\n",
       " ('happiness', 'Enjoy', 'your'),\n",
       " ('Enjoy', 'your', 'life')]"
      ]
     },
     "execution_count": 28,
     "metadata": {},
     "output_type": "execute_result"
    }
   ],
   "source": [
    "# this is three wods\n",
    "trigrams = list(nltk.trigrams(tokens))\n",
    "trigrams"
   ]
  },
  {
   "cell_type": "code",
   "execution_count": 29,
   "metadata": {},
   "outputs": [
    {
     "data": {
      "text/plain": [
       "[('An', 'old', 'man', 'lived'),\n",
       " ('old', 'man', 'lived', 'in'),\n",
       " ('man', 'lived', 'in', 'the'),\n",
       " ('lived', 'in', 'the', 'village'),\n",
       " ('in', 'the', 'village', 'He'),\n",
       " ('the', 'village', 'He', 'was'),\n",
       " ('village', 'He', 'was', 'one'),\n",
       " ('He', 'was', 'one', 'of'),\n",
       " ('was', 'one', 'of', 'the'),\n",
       " ('one', 'of', 'the', 'most'),\n",
       " ('of', 'the', 'most', 'unfortunate'),\n",
       " ('the', 'most', 'unfortunate', 'people'),\n",
       " ('most', 'unfortunate', 'people', 'in'),\n",
       " ('unfortunate', 'people', 'in', 'the'),\n",
       " ('people', 'in', 'the', 'world'),\n",
       " ('in', 'the', 'world', 'The'),\n",
       " ('the', 'world', 'The', 'whole'),\n",
       " ('world', 'The', 'whole', 'village'),\n",
       " ('The', 'whole', 'village', 'was'),\n",
       " ('whole', 'village', 'was', 'tired'),\n",
       " ('village', 'was', 'tired', 'of'),\n",
       " ('was', 'tired', 'of', 'him'),\n",
       " ('tired', 'of', 'him', 'he'),\n",
       " ('of', 'him', 'he', 'was'),\n",
       " ('him', 'he', 'was', 'always'),\n",
       " ('he', 'was', 'always', 'gloomy'),\n",
       " ('was', 'always', 'gloomy', 'he'),\n",
       " ('always', 'gloomy', 'he', 'constantly'),\n",
       " ('gloomy', 'he', 'constantly', 'complained'),\n",
       " ('he', 'constantly', 'complained', 'and'),\n",
       " ('constantly', 'complained', 'and', 'was'),\n",
       " ('complained', 'and', 'was', 'always'),\n",
       " ('and', 'was', 'always', 'in'),\n",
       " ('was', 'always', 'in', 'a'),\n",
       " ('always', 'in', 'a', 'bad'),\n",
       " ('in', 'a', 'bad', 'mood'),\n",
       " ('a', 'bad', 'mood', 'The'),\n",
       " ('bad', 'mood', 'The', 'longer'),\n",
       " ('mood', 'The', 'longer', 'he'),\n",
       " ('The', 'longer', 'he', 'lived'),\n",
       " ('longer', 'he', 'lived', 'the'),\n",
       " ('he', 'lived', 'the', 'more'),\n",
       " ('lived', 'the', 'more', 'bile'),\n",
       " ('the', 'more', 'bile', 'he'),\n",
       " ('more', 'bile', 'he', 'was'),\n",
       " ('bile', 'he', 'was', 'becoming'),\n",
       " ('he', 'was', 'becoming', 'and'),\n",
       " ('was', 'becoming', 'and', 'the'),\n",
       " ('becoming', 'and', 'the', 'more'),\n",
       " ('and', 'the', 'more', 'poisonous'),\n",
       " ('the', 'more', 'poisonous', 'were'),\n",
       " ('more', 'poisonous', 'were', 'his'),\n",
       " ('poisonous', 'were', 'his', 'words'),\n",
       " ('were', 'his', 'words', 'People'),\n",
       " ('his', 'words', 'People', 'avoided'),\n",
       " ('words', 'People', 'avoided', 'him'),\n",
       " ('People', 'avoided', 'him', 'because'),\n",
       " ('avoided', 'him', 'because', 'his'),\n",
       " ('him', 'because', 'his', 'misfortune'),\n",
       " ('because', 'his', 'misfortune', 'became'),\n",
       " ('his', 'misfortune', 'became', 'contagious'),\n",
       " ('misfortune', 'became', 'contagious', 'It'),\n",
       " ('became', 'contagious', 'It', 'was'),\n",
       " ('contagious', 'It', 'was', 'even'),\n",
       " ('It', 'was', 'even', 'unnatural'),\n",
       " ('was', 'even', 'unnatural', 'and'),\n",
       " ('even', 'unnatural', 'and', 'insulting'),\n",
       " ('unnatural', 'and', 'insulting', 'to'),\n",
       " ('and', 'insulting', 'to', 'be'),\n",
       " ('insulting', 'to', 'be', 'happy'),\n",
       " ('to', 'be', 'happy', 'next'),\n",
       " ('be', 'happy', 'next', 'to'),\n",
       " ('happy', 'next', 'to', 'him'),\n",
       " ('next', 'to', 'him', 'He'),\n",
       " ('to', 'him', 'He', 'created'),\n",
       " ('him', 'He', 'created', 'the'),\n",
       " ('He', 'created', 'the', 'feeling'),\n",
       " ('created', 'the', 'feeling', 'of'),\n",
       " ('the', 'feeling', 'of', 'unhappiness'),\n",
       " ('feeling', 'of', 'unhappiness', 'in'),\n",
       " ('of', 'unhappiness', 'in', 'others'),\n",
       " ('unhappiness', 'in', 'others', 'But'),\n",
       " ('in', 'others', 'But', 'one'),\n",
       " ('others', 'But', 'one', 'day'),\n",
       " ('But', 'one', 'day', 'when'),\n",
       " ('one', 'day', 'when', 'he'),\n",
       " ('day', 'when', 'he', 'turned'),\n",
       " ('when', 'he', 'turned', 'eighty'),\n",
       " ('he', 'turned', 'eighty', 'years'),\n",
       " ('turned', 'eighty', 'years', 'old'),\n",
       " ('eighty', 'years', 'old', 'an'),\n",
       " ('years', 'old', 'an', 'incredible'),\n",
       " ('old', 'an', 'incredible', 'thing'),\n",
       " ('an', 'incredible', 'thing', 'happened'),\n",
       " ('incredible', 'thing', 'happened', 'Instantly'),\n",
       " ('thing', 'happened', 'Instantly', 'everyone'),\n",
       " ('happened', 'Instantly', 'everyone', 'started'),\n",
       " ('Instantly', 'everyone', 'started', 'hearing'),\n",
       " ('everyone', 'started', 'hearing', 'the'),\n",
       " ('started', 'hearing', 'the', 'rumourAn'),\n",
       " ('hearing', 'the', 'rumourAn', 'Old'),\n",
       " ('the', 'rumourAn', 'Old', 'Man'),\n",
       " ('rumourAn', 'Old', 'Man', 'is'),\n",
       " ('Old', 'Man', 'is', 'happy'),\n",
       " ('Man', 'is', 'happy', 'today'),\n",
       " ('is', 'happy', 'today', 'he'),\n",
       " ('happy', 'today', 'he', 'doesnt'),\n",
       " ('today', 'he', 'doesnt', 'complain'),\n",
       " ('he', 'doesnt', 'complain', 'about'),\n",
       " ('doesnt', 'complain', 'about', 'anything'),\n",
       " ('complain', 'about', 'anything', 'smiles'),\n",
       " ('about', 'anything', 'smiles', 'and'),\n",
       " ('anything', 'smiles', 'and', 'even'),\n",
       " ('smiles', 'and', 'even', 'his'),\n",
       " ('and', 'even', 'his', 'face'),\n",
       " ('even', 'his', 'face', 'is'),\n",
       " ('his', 'face', 'is', 'freshened'),\n",
       " ('face', 'is', 'freshened', 'up'),\n",
       " ('is', 'freshened', 'up', 'The'),\n",
       " ('freshened', 'up', 'The', 'whole'),\n",
       " ('up', 'The', 'whole', 'village'),\n",
       " ('The', 'whole', 'village', 'gathered'),\n",
       " ('whole', 'village', 'gathered', 'together'),\n",
       " ('village', 'gathered', 'together', 'The'),\n",
       " ('gathered', 'together', 'The', 'old'),\n",
       " ('together', 'The', 'old', 'man'),\n",
       " ('The', 'old', 'man', 'was'),\n",
       " ('old', 'man', 'was', 'askedVillager'),\n",
       " ('man', 'was', 'askedVillager', 'What'),\n",
       " ('was', 'askedVillager', 'What', 'happened'),\n",
       " ('askedVillager', 'What', 'happened', 'to'),\n",
       " ('What', 'happened', 'to', 'youNothing'),\n",
       " ('happened', 'to', 'youNothing', 'special'),\n",
       " ('to', 'youNothing', 'special', 'Eighty'),\n",
       " ('youNothing', 'special', 'Eighty', 'years'),\n",
       " ('special', 'Eighty', 'years', 'Ive'),\n",
       " ('Eighty', 'years', 'Ive', 'been'),\n",
       " ('years', 'Ive', 'been', 'chasing'),\n",
       " ('Ive', 'been', 'chasing', 'happiness'),\n",
       " ('been', 'chasing', 'happiness', 'and'),\n",
       " ('chasing', 'happiness', 'and', 'it'),\n",
       " ('happiness', 'and', 'it', 'was'),\n",
       " ('and', 'it', 'was', 'useless'),\n",
       " ('it', 'was', 'useless', 'And'),\n",
       " ('was', 'useless', 'And', 'then'),\n",
       " ('useless', 'And', 'then', 'I'),\n",
       " ('And', 'then', 'I', 'decided'),\n",
       " ('then', 'I', 'decided', 'to'),\n",
       " ('I', 'decided', 'to', 'live'),\n",
       " ('decided', 'to', 'live', 'without'),\n",
       " ('to', 'live', 'without', 'happiness'),\n",
       " ('live', 'without', 'happiness', 'and'),\n",
       " ('without', 'happiness', 'and', 'just'),\n",
       " ('happiness', 'and', 'just', 'enjoy'),\n",
       " ('and', 'just', 'enjoy', 'life'),\n",
       " ('just', 'enjoy', 'life', 'Thats'),\n",
       " ('enjoy', 'life', 'Thats', 'why'),\n",
       " ('life', 'Thats', 'why', 'Im'),\n",
       " ('Thats', 'why', 'Im', 'happy'),\n",
       " ('why', 'Im', 'happy', 'now'),\n",
       " ('Im', 'happy', 'now', 'An'),\n",
       " ('happy', 'now', 'An', 'Old'),\n",
       " ('now', 'An', 'Old', 'Man'),\n",
       " ('An', 'Old', 'Man', 'Moral'),\n",
       " ('Old', 'Man', 'Moral', 'of'),\n",
       " ('Man', 'Moral', 'of', 'the'),\n",
       " ('Moral', 'of', 'the', 'story'),\n",
       " ('of', 'the', 'story', 'Dont'),\n",
       " ('the', 'story', 'Dont', 'chase'),\n",
       " ('story', 'Dont', 'chase', 'happiness'),\n",
       " ('Dont', 'chase', 'happiness', 'Enjoy'),\n",
       " ('chase', 'happiness', 'Enjoy', 'your'),\n",
       " ('happiness', 'Enjoy', 'your', 'life')]"
      ]
     },
     "execution_count": 29,
     "metadata": {},
     "output_type": "execute_result"
    }
   ],
   "source": [
    "# this is enter no of  wods\n",
    "ngrams = list(nltk.ngrams(tokens, 4))\n",
    "ngrams"
   ]
  },
  {
   "cell_type": "code",
   "execution_count": 30,
   "metadata": {},
   "outputs": [
    {
     "name": "stdout",
     "output_type": "stream",
     "text": [
      "['an', 'old', 'man', 'lived', 'in', 'the', 'village', 'he', 'was', 'one', 'of', 'the', 'most', 'unfortunate', 'people', 'in', 'the', 'world', 'the', 'whole', 'village', 'was', 'tired', 'of', 'him', 'he', 'was', 'always', 'gloomy', 'he', 'constantly', 'complained', 'and', 'was', 'always', 'in', 'a', 'bad', 'mood', 'the', 'longer', 'he', 'lived', 'the', 'more', 'bile', 'he', 'was', 'becoming', 'and', 'the', 'more', 'poisonous', 'were', 'his', 'words', 'people', 'avoided', 'him', 'because', 'his', 'misfortune', 'became', 'contagious', 'it', 'was', 'even', 'unnatural', 'and', 'insulting', 'to', 'be', 'happy', 'next', 'to', 'him', 'he', 'created', 'the', 'feeling', 'of', 'unhappiness', 'in', 'others', 'but', 'one', 'day', 'when', 'he', 'turned', 'eighty', 'years', 'old', 'an', 'incredible', 'thing', 'happened', 'instantly', 'everyone', 'started', 'hearing', 'the', 'rumouran', 'old', 'man', 'is', 'happy', 'today', 'he', 'doesnt', 'complain', 'about', 'anything', 'smiles', 'and', 'even', 'his', 'face', 'is', 'freshened', 'up', 'the', 'whole', 'village', 'gathered', 'together', 'the', 'old', 'man', 'was', 'askedvillager', 'what', 'happened', 'to', 'younothing', 'special', 'eighty', 'years', 'ive', 'been', 'chasing', 'happiness', 'and', 'it', 'was', 'useless', 'and', 'then', 'i', 'decided', 'to', 'live', 'without', 'happiness', 'and', 'just', 'enjoy', 'life', 'thats', 'why', 'im', 'happy', 'now', 'an', 'old', 'man', 'moral', 'of', 'the', 'story', 'dont', 'chase', 'happiness', 'enjoy', 'your', 'life']\n"
     ]
    }
   ],
   "source": [
    "# all word in lower letar\n",
    "words = [w.lower() for w in tokens]\n",
    "print(words)"
   ]
  },
  {
   "cell_type": "code",
   "execution_count": 31,
   "metadata": {},
   "outputs": [
    {
     "name": "stdout",
     "output_type": "stream",
     "text": [
      "['a', 'about', 'always', 'an', 'and', 'anything', 'askedvillager', 'avoided', 'bad', 'be', 'became', 'because', 'becoming', 'been', 'bile', 'but', 'chase', 'chasing', 'complain', 'complained', 'constantly', 'contagious', 'created', 'day', 'decided', 'doesnt', 'dont', 'eighty', 'enjoy', 'even', 'everyone', 'face', 'feeling', 'freshened', 'gathered', 'gloomy', 'happened', 'happiness', 'happy', 'he', 'hearing', 'him', 'his', 'i', 'im', 'in', 'incredible', 'instantly', 'insulting', 'is', 'it', 'ive', 'just', 'life', 'live', 'lived', 'longer', 'man', 'misfortune', 'mood', 'moral', 'more', 'most', 'next', 'now', 'of', 'old', 'one', 'others', 'people', 'poisonous', 'rumouran', 'smiles', 'special', 'started', 'story', 'thats', 'the', 'then', 'thing', 'tired', 'to', 'today', 'together', 'turned', 'unfortunate', 'unhappiness', 'unnatural', 'up', 'useless', 'village', 'was', 'were', 'what', 'when', 'whole', 'why', 'without', 'words', 'world', 'years', 'younothing', 'your']\n"
     ]
    }
   ],
   "source": [
    "vocab = sorted(set(words))\n",
    "print(vocab)"
   ]
  },
  {
   "cell_type": "code",
   "execution_count": 32,
   "metadata": {},
   "outputs": [
    {
     "name": "stderr",
     "output_type": "stream",
     "text": [
      "[nltk_data] Downloading package averaged_perceptron_tagger to\n",
      "[nltk_data]     C:\\Users\\User\\AppData\\Roaming\\nltk_data...\n",
      "[nltk_data]   Package averaged_perceptron_tagger is already up-to-\n",
      "[nltk_data]       date!\n"
     ]
    },
    {
     "name": "stdout",
     "output_type": "stream",
     "text": [
      "[('an', 'DT'), ('old', 'JJ'), ('man', 'NN'), ('lived', 'VBD'), ('in', 'IN'), ('the', 'DT'), ('village', 'NN'), ('he', 'PRP'), ('was', 'VBD'), ('one', 'CD'), ('of', 'IN'), ('the', 'DT'), ('most', 'RBS'), ('unfortunate', 'JJ'), ('people', 'NNS'), ('in', 'IN'), ('the', 'DT'), ('world', 'NN'), ('the', 'DT'), ('whole', 'JJ'), ('village', 'NN'), ('was', 'VBD'), ('tired', 'VBN'), ('of', 'IN'), ('him', 'PRP'), ('he', 'PRP'), ('was', 'VBD'), ('always', 'RB'), ('gloomy', 'JJ'), ('he', 'PRP'), ('constantly', 'RB'), ('complained', 'VBD'), ('and', 'CC'), ('was', 'VBD'), ('always', 'RB'), ('in', 'IN'), ('a', 'DT'), ('bad', 'JJ'), ('mood', 'NN'), ('the', 'DT'), ('longer', 'JJR'), ('he', 'PRP'), ('lived', 'VBD'), ('the', 'DT'), ('more', 'RBR'), ('bile', 'IN'), ('he', 'PRP'), ('was', 'VBD'), ('becoming', 'VBG'), ('and', 'CC'), ('the', 'DT'), ('more', 'RBR'), ('poisonous', 'JJ'), ('were', 'VBD'), ('his', 'PRP$'), ('words', 'NNS'), ('people', 'NNS'), ('avoided', 'VBD'), ('him', 'PRP'), ('because', 'IN'), ('his', 'PRP$'), ('misfortune', 'NN'), ('became', 'VBD'), ('contagious', 'JJ'), ('it', 'PRP'), ('was', 'VBD'), ('even', 'RB'), ('unnatural', 'JJ'), ('and', 'CC'), ('insulting', 'JJ'), ('to', 'TO'), ('be', 'VB'), ('happy', 'JJ'), ('next', 'JJ'), ('to', 'TO'), ('him', 'PRP'), ('he', 'PRP'), ('created', 'VBD'), ('the', 'DT'), ('feeling', 'NN'), ('of', 'IN'), ('unhappiness', 'NN'), ('in', 'IN'), ('others', 'NNS'), ('but', 'CC'), ('one', 'CD'), ('day', 'NN'), ('when', 'WRB'), ('he', 'PRP'), ('turned', 'VBD'), ('eighty', 'JJ'), ('years', 'NNS'), ('old', 'JJ'), ('an', 'DT'), ('incredible', 'JJ'), ('thing', 'NN'), ('happened', 'VBD'), ('instantly', 'RB'), ('everyone', 'NN'), ('started', 'VBD'), ('hearing', 'VBG'), ('the', 'DT'), ('rumouran', 'NN'), ('old', 'JJ'), ('man', 'NN'), ('is', 'VBZ'), ('happy', 'JJ'), ('today', 'NN'), ('he', 'PRP'), ('doesnt', 'VBZ'), ('complain', 'NN'), ('about', 'IN'), ('anything', 'NN'), ('smiles', 'NNS'), ('and', 'CC'), ('even', 'RB'), ('his', 'PRP$'), ('face', 'NN'), ('is', 'VBZ'), ('freshened', 'VBN'), ('up', 'RP'), ('the', 'DT'), ('whole', 'JJ'), ('village', 'NN'), ('gathered', 'VBD'), ('together', 'RB'), ('the', 'DT'), ('old', 'JJ'), ('man', 'NN'), ('was', 'VBD'), ('askedvillager', 'JJR'), ('what', 'WP'), ('happened', 'VBD'), ('to', 'TO'), ('younothing', 'VBG'), ('special', 'JJ'), ('eighty', 'JJ'), ('years', 'NNS'), ('ive', 'VBP'), ('been', 'VBN'), ('chasing', 'VBG'), ('happiness', 'NN'), ('and', 'CC'), ('it', 'PRP'), ('was', 'VBD'), ('useless', 'JJ'), ('and', 'CC'), ('then', 'RB'), ('i', 'VB'), ('decided', 'VBD'), ('to', 'TO'), ('live', 'VB'), ('without', 'IN'), ('happiness', 'NN'), ('and', 'CC'), ('just', 'RB'), ('enjoy', 'VB'), ('life', 'NN'), ('thats', 'NNS'), ('why', 'WRB'), ('im', 'VBP'), ('happy', 'JJ'), ('now', 'RB'), ('an', 'DT'), ('old', 'JJ'), ('man', 'NN'), ('moral', 'NN'), ('of', 'IN'), ('the', 'DT'), ('story', 'NN'), ('dont', 'JJ'), ('chase', 'NN'), ('happiness', 'NN'), ('enjoy', 'VB'), ('your', 'PRP$'), ('life', 'NN')]\n"
     ]
    }
   ],
   "source": [
    "nltk.download('averaged_perceptron_tagger')\n",
    "pos_list = nltk.pos_tag(words)\n",
    "print(pos_list)"
   ]
  },
  {
   "cell_type": "code",
   "execution_count": 34,
   "metadata": {},
   "outputs": [],
   "source": [
    "from nltk.corpus import stopwords"
   ]
  },
  {
   "cell_type": "code",
   "execution_count": 35,
   "metadata": {},
   "outputs": [
    {
     "data": {
      "text/plain": [
       "['i',\n",
       " 'me',\n",
       " 'my',\n",
       " 'myself',\n",
       " 'we',\n",
       " 'our',\n",
       " 'ours',\n",
       " 'ourselves',\n",
       " 'you',\n",
       " \"you're\",\n",
       " \"you've\",\n",
       " \"you'll\",\n",
       " \"you'd\",\n",
       " 'your',\n",
       " 'yours',\n",
       " 'yourself',\n",
       " 'yourselves',\n",
       " 'he',\n",
       " 'him',\n",
       " 'his',\n",
       " 'himself',\n",
       " 'she',\n",
       " \"she's\",\n",
       " 'her',\n",
       " 'hers',\n",
       " 'herself',\n",
       " 'it',\n",
       " \"it's\",\n",
       " 'its',\n",
       " 'itself',\n",
       " 'they',\n",
       " 'them',\n",
       " 'their',\n",
       " 'theirs',\n",
       " 'themselves',\n",
       " 'what',\n",
       " 'which',\n",
       " 'who',\n",
       " 'whom',\n",
       " 'this',\n",
       " 'that',\n",
       " \"that'll\",\n",
       " 'these',\n",
       " 'those',\n",
       " 'am',\n",
       " 'is',\n",
       " 'are',\n",
       " 'was',\n",
       " 'were',\n",
       " 'be',\n",
       " 'been',\n",
       " 'being',\n",
       " 'have',\n",
       " 'has',\n",
       " 'had',\n",
       " 'having',\n",
       " 'do',\n",
       " 'does',\n",
       " 'did',\n",
       " 'doing',\n",
       " 'a',\n",
       " 'an',\n",
       " 'the',\n",
       " 'and',\n",
       " 'but',\n",
       " 'if',\n",
       " 'or',\n",
       " 'because',\n",
       " 'as',\n",
       " 'until',\n",
       " 'while',\n",
       " 'of',\n",
       " 'at',\n",
       " 'by',\n",
       " 'for',\n",
       " 'with',\n",
       " 'about',\n",
       " 'against',\n",
       " 'between',\n",
       " 'into',\n",
       " 'through',\n",
       " 'during',\n",
       " 'before',\n",
       " 'after',\n",
       " 'above',\n",
       " 'below',\n",
       " 'to',\n",
       " 'from',\n",
       " 'up',\n",
       " 'down',\n",
       " 'in',\n",
       " 'out',\n",
       " 'on',\n",
       " 'off',\n",
       " 'over',\n",
       " 'under',\n",
       " 'again',\n",
       " 'further',\n",
       " 'then',\n",
       " 'once',\n",
       " 'here',\n",
       " 'there',\n",
       " 'when',\n",
       " 'where',\n",
       " 'why',\n",
       " 'how',\n",
       " 'all',\n",
       " 'any',\n",
       " 'both',\n",
       " 'each',\n",
       " 'few',\n",
       " 'more',\n",
       " 'most',\n",
       " 'other',\n",
       " 'some',\n",
       " 'such',\n",
       " 'no',\n",
       " 'nor',\n",
       " 'not',\n",
       " 'only',\n",
       " 'own',\n",
       " 'same',\n",
       " 'so',\n",
       " 'than',\n",
       " 'too',\n",
       " 'very',\n",
       " 's',\n",
       " 't',\n",
       " 'can',\n",
       " 'will',\n",
       " 'just',\n",
       " 'don',\n",
       " \"don't\",\n",
       " 'should',\n",
       " \"should've\",\n",
       " 'now',\n",
       " 'd',\n",
       " 'll',\n",
       " 'm',\n",
       " 'o',\n",
       " 're',\n",
       " 've',\n",
       " 'y',\n",
       " 'ain',\n",
       " 'aren',\n",
       " \"aren't\",\n",
       " 'couldn',\n",
       " \"couldn't\",\n",
       " 'didn',\n",
       " \"didn't\",\n",
       " 'doesn',\n",
       " \"doesn't\",\n",
       " 'hadn',\n",
       " \"hadn't\",\n",
       " 'hasn',\n",
       " \"hasn't\",\n",
       " 'haven',\n",
       " \"haven't\",\n",
       " 'isn',\n",
       " \"isn't\",\n",
       " 'ma',\n",
       " 'mightn',\n",
       " \"mightn't\",\n",
       " 'mustn',\n",
       " \"mustn't\",\n",
       " 'needn',\n",
       " \"needn't\",\n",
       " 'shan',\n",
       " \"shan't\",\n",
       " 'shouldn',\n",
       " \"shouldn't\",\n",
       " 'wasn',\n",
       " \"wasn't\",\n",
       " 'weren',\n",
       " \"weren't\",\n",
       " 'won',\n",
       " \"won't\",\n",
       " 'wouldn',\n",
       " \"wouldn't\"]"
      ]
     },
     "execution_count": 35,
     "metadata": {},
     "output_type": "execute_result"
    }
   ],
   "source": [
    "stopwords.words('english')"
   ]
  },
  {
   "cell_type": "code",
   "execution_count": 36,
   "metadata": {},
   "outputs": [
    {
     "data": {
      "text/plain": [
       "179"
      ]
     },
     "execution_count": 36,
     "metadata": {},
     "output_type": "execute_result"
    }
   ],
   "source": [
    "len(stopwords.words('english'))"
   ]
  },
  {
   "cell_type": "code",
   "execution_count": 37,
   "metadata": {},
   "outputs": [],
   "source": [
    "import re\n",
    "Punctuction=re.compile(r'[-,?!,:;()|0-9]')"
   ]
  },
  {
   "cell_type": "code",
   "execution_count": 39,
   "metadata": {},
   "outputs": [],
   "source": [
    "Post_Punctuction = []\n",
    "for words in tokens:\n",
    "    word = Punctuction.sub(\"\",words)\n",
    "    if len(word)>0:\n",
    "        Post_Punctuction.append(word)"
   ]
  },
  {
   "cell_type": "code",
   "execution_count": 40,
   "metadata": {},
   "outputs": [
    {
     "data": {
      "text/plain": [
       "['An',\n",
       " 'old',\n",
       " 'man',\n",
       " 'lived',\n",
       " 'in',\n",
       " 'the',\n",
       " 'village',\n",
       " 'He',\n",
       " 'was',\n",
       " 'one',\n",
       " 'of',\n",
       " 'the',\n",
       " 'most',\n",
       " 'unfortunate',\n",
       " 'people',\n",
       " 'in',\n",
       " 'the',\n",
       " 'world',\n",
       " 'The',\n",
       " 'whole',\n",
       " 'village',\n",
       " 'was',\n",
       " 'tired',\n",
       " 'of',\n",
       " 'him',\n",
       " 'he',\n",
       " 'was',\n",
       " 'always',\n",
       " 'gloomy',\n",
       " 'he',\n",
       " 'constantly',\n",
       " 'complained',\n",
       " 'and',\n",
       " 'was',\n",
       " 'always',\n",
       " 'in',\n",
       " 'a',\n",
       " 'bad',\n",
       " 'mood',\n",
       " 'The',\n",
       " 'longer',\n",
       " 'he',\n",
       " 'lived',\n",
       " 'the',\n",
       " 'more',\n",
       " 'bile',\n",
       " 'he',\n",
       " 'was',\n",
       " 'becoming',\n",
       " 'and',\n",
       " 'the',\n",
       " 'more',\n",
       " 'poisonous',\n",
       " 'were',\n",
       " 'his',\n",
       " 'words',\n",
       " 'People',\n",
       " 'avoided',\n",
       " 'him',\n",
       " 'because',\n",
       " 'his',\n",
       " 'misfortune',\n",
       " 'became',\n",
       " 'contagious',\n",
       " 'It',\n",
       " 'was',\n",
       " 'even',\n",
       " 'unnatural',\n",
       " 'and',\n",
       " 'insulting',\n",
       " 'to',\n",
       " 'be',\n",
       " 'happy',\n",
       " 'next',\n",
       " 'to',\n",
       " 'him',\n",
       " 'He',\n",
       " 'created',\n",
       " 'the',\n",
       " 'feeling',\n",
       " 'of',\n",
       " 'unhappiness',\n",
       " 'in',\n",
       " 'others',\n",
       " 'But',\n",
       " 'one',\n",
       " 'day',\n",
       " 'when',\n",
       " 'he',\n",
       " 'turned',\n",
       " 'eighty',\n",
       " 'years',\n",
       " 'old',\n",
       " 'an',\n",
       " 'incredible',\n",
       " 'thing',\n",
       " 'happened',\n",
       " 'Instantly',\n",
       " 'everyone',\n",
       " 'started',\n",
       " 'hearing',\n",
       " 'the',\n",
       " 'rumourAn',\n",
       " 'Old',\n",
       " 'Man',\n",
       " 'is',\n",
       " 'happy',\n",
       " 'today',\n",
       " 'he',\n",
       " 'doesnt',\n",
       " 'complain',\n",
       " 'about',\n",
       " 'anything',\n",
       " 'smiles',\n",
       " 'and',\n",
       " 'even',\n",
       " 'his',\n",
       " 'face',\n",
       " 'is',\n",
       " 'freshened',\n",
       " 'up',\n",
       " 'The',\n",
       " 'whole',\n",
       " 'village',\n",
       " 'gathered',\n",
       " 'together',\n",
       " 'The',\n",
       " 'old',\n",
       " 'man',\n",
       " 'was',\n",
       " 'askedVillager',\n",
       " 'What',\n",
       " 'happened',\n",
       " 'to',\n",
       " 'youNothing',\n",
       " 'special',\n",
       " 'Eighty',\n",
       " 'years',\n",
       " 'Ive',\n",
       " 'been',\n",
       " 'chasing',\n",
       " 'happiness',\n",
       " 'and',\n",
       " 'it',\n",
       " 'was',\n",
       " 'useless',\n",
       " 'And',\n",
       " 'then',\n",
       " 'I',\n",
       " 'decided',\n",
       " 'to',\n",
       " 'live',\n",
       " 'without',\n",
       " 'happiness',\n",
       " 'and',\n",
       " 'just',\n",
       " 'enjoy',\n",
       " 'life',\n",
       " 'Thats',\n",
       " 'why',\n",
       " 'Im',\n",
       " 'happy',\n",
       " 'now',\n",
       " 'An',\n",
       " 'Old',\n",
       " 'Man',\n",
       " 'Moral',\n",
       " 'of',\n",
       " 'the',\n",
       " 'story',\n",
       " 'Dont',\n",
       " 'chase',\n",
       " 'happiness',\n",
       " 'Enjoy',\n",
       " 'your',\n",
       " 'life']"
      ]
     },
     "execution_count": 40,
     "metadata": {},
     "output_type": "execute_result"
    }
   ],
   "source": [
    "Post_Punctuction"
   ]
  },
  {
   "cell_type": "code",
   "execution_count": 41,
   "metadata": {},
   "outputs": [
    {
     "name": "stdout",
     "output_type": "stream",
     "text": [
      "[('An old man lived in the village.', 'NN')]\n",
      "[('He was one of the most unfortunate people in the world.', 'NN')]\n",
      "[('The whole village was tired of him; he was always gloomy, he constantly complained and was always in a bad mood.The longer he lived, the more bile he was becoming and the more poisonous were his words.', 'NN')]\n",
      "[('People avoided him, because his misfortune became contagious.', 'NN')]\n",
      "[('It was even unnatural and insulting to be happy next to him.He created the feeling of unhappiness in others.But one day, when he turned eighty years old, an incredible thing happened.', 'NN')]\n",
      "[('Instantly everyone started hearing the rumour:“An Old Man is happy today, he doesn’t complain about anything, smiles, and even his face is freshened up.The whole village gathered together.', 'NN')]\n",
      "[('The old man was asked:Villager: What happened to you?“Nothing special.', 'NN')]\n",
      "[('Eighty years I’ve been chasing happiness, and it was useless.', 'NN')]\n",
      "[('And then I decided to live without happiness and just enjoy life.', 'NN')]\n",
      "[('That’s why I’m happy now.” – An Old Man.', 'NN')]\n",
      "[('Moral of the story: Don’t chase happiness.', 'NN')]\n",
      "[('Enjoy your life', 'NN')]\n"
     ]
    }
   ],
   "source": [
    "for token in sent:\n",
    "    print(nltk.pos_tag([token]))"
   ]
  },
  {
   "cell_type": "code",
   "execution_count": 42,
   "metadata": {},
   "outputs": [],
   "source": [
    "pos = nltk.pos_tag([token])"
   ]
  },
  {
   "cell_type": "code",
   "execution_count": 43,
   "metadata": {},
   "outputs": [],
   "source": [
    "from nltk import ne_chunk"
   ]
  },
  {
   "cell_type": "code",
   "execution_count": 44,
   "metadata": {},
   "outputs": [
    {
     "name": "stdout",
     "output_type": "stream",
     "text": [
      "(S Enjoy your life/NN)\n"
     ]
    }
   ],
   "source": [
    "NEM = ne_chunk(pos)\n",
    "print(NEM)"
   ]
  },
  {
   "cell_type": "code",
   "execution_count": 45,
   "metadata": {},
   "outputs": [],
   "source": [
    "#chunking\n",
    "grammer_np = r\"NP:{<DT>?<]]>*<NN>}\"\n",
    "chunk_parser = nltk.RegexpParser(grammer_np)"
   ]
  },
  {
   "cell_type": "code",
   "execution_count": 46,
   "metadata": {},
   "outputs": [
    {
     "name": "stdout",
     "output_type": "stream",
     "text": [
      "(S (NP Enjoy your life/NN))\n"
     ]
    }
   ],
   "source": [
    "chunk_result = chunk_parser.parse(pos)\n",
    "print(chunk_result)"
   ]
  },
  {
   "cell_type": "code",
   "execution_count": 49,
   "metadata": {},
   "outputs": [
    {
     "name": "stdout",
     "output_type": "stream",
     "text": [
      "An old man lived in the village\n",
      "He was one of the most unfortunate people in the world\n",
      "The whole village was tired of him he was always gloomy he constantly complained and was always in a bad mood\n",
      "The longer he lived the more bile he was becoming and the more poisonous were his words\n",
      "People avoided him because his misfortune became contagious\n",
      "It was even unnatural and insulting to be happy next to him\n",
      "He created the feeling of unhappiness in others\n",
      "But one day when he turned eighty years old an incredible thing happened\n",
      "Instantly everyone started hearing the rumourAn Old Man is happy today he doesnt complain about anything smiles and even his face is freshened up\n",
      "The whole village gathered together\n",
      "The old man was askedVillager What happened to youNothing special\n",
      "Eighty years Ive been chasing happiness and it was useless\n",
      "And then I decided to live without happiness and just enjoy life\n",
      "Thats why Im happy now\n",
      "An Old Man\n",
      "Moral of the story Dont chase happiness\n",
      "Enjoy your life\n"
     ]
    }
   ],
   "source": [
    "cleaned_text = '\\n'.join(sentences)\n",
    "print(cleaned_text)"
   ]
  },
  {
   "cell_type": "code",
   "execution_count": null,
   "metadata": {},
   "outputs": [],
   "source": []
  }
 ],
 "metadata": {
  "kernelspec": {
   "display_name": "Python 3",
   "language": "python",
   "name": "python3"
  },
  "language_info": {
   "codemirror_mode": {
    "name": "ipython",
    "version": 3
   },
   "file_extension": ".py",
   "mimetype": "text/x-python",
   "name": "python",
   "nbconvert_exporter": "python",
   "pygments_lexer": "ipython3",
   "version": "3.7.3"
  }
 },
 "nbformat": 4,
 "nbformat_minor": 2
}
